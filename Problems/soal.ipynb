{
 "cells": [
  {
   "cell_type": "markdown",
   "metadata": {},
   "source": [
    "<div dir=rtl>\n",
    "سوال 1\n",
    " ماتریس identity به عنوان یک ماتریس مربع با 1 ها از بالا سمت چپ مربع به سمت راست پایین تعریف می شود. بقیه عناصر 0 هستند. ماتریس identity دارای کاربردهای زیادی مثلا در یادگیری ماشینی است.\n",
    "\n",
    "تابعی ایجاد کنید که یک عدد صحیح n بگیرد و ماتریس هویت n x n بعد را برگرداند. برای این چالش، اگر عدد صحیح منفی است، تصویر آینه ای ماتریس هویت n x n بعد را برگردانید.\n",
    "\n",
    "مثالها\n",
    "\n",
    "id_mtrx(2) ➞ [\n",
    "\n",
    "[1, 0],\n",
    "\n",
    "[0, 1]\n",
    "\n",
    "]\n",
    "\n",
    "id_mtrx(-2) ➞ [\n",
    "\n",
    "[0, 1],\n",
    "\n",
    "[1, 0]\n",
    "\n",
    "]\n",
    "\n",
    "id_mtrx(0) ➞ []\n",
    "</div>"
   ]
  },
  {
   "cell_type": "code",
   "execution_count": null,
   "metadata": {},
   "outputs": [],
   "source": []
  },
  {
   "cell_type": "markdown",
   "metadata": {},
   "source": [
    "<div dir=rtl>\n",
    "سوال 2\n",
    " تابعی بنویسید که یک رشته از پرانتزها را در کلاسترهایی از پرانتزها گروه بندی کند (رشته فقط از پرانتزهای متوازن و صحیح تشکیل شده است).\n",
    "\n",
    "مثالها:\n",
    "\n",
    "split(\"()()()\") ➞ [\"()\", \"()\", \"()\"]\n",
    "\n",
    "split(\"((()))\") ➞ [\"((()))\"]\n",
    "\n",
    "split(\"((()))(())()()(()())\") ➞ [\"((()))\", \"(())\", \"()\", \"()\", \"(()())\"]\n",
    "\n",
    "split(\"((())())(()(()()))\") ➞ [\"((())())\", \"(()(()()))\"]\n",
    "</div>"
   ]
  },
  {
   "cell_type": "code",
   "execution_count": null,
   "metadata": {},
   "outputs": [],
   "source": []
  },
  {
   "cell_type": "markdown",
   "metadata": {},
   "source": [
    "<div dir=rtl>\n",
    "فرض کنید دروس ثبت نام توسط دانشجویان با فرمت زیر ورودی داده شده است:\n",
    "\n",
    "StudentName CourseName\n",
    "\n",
    "به عنوان مثال\n",
    "\n",
    "Ahmadi Physics2\n",
    "\n",
    "Akbari Mathematics2\n",
    "\n",
    "Ahmadi AP\n",
    "\n",
    "Mohammadi Physics2\n",
    "\n",
    "Mohammadi Mathematics2\n",
    "\n",
    "Ahmadi Mathematics2\n",
    "\n",
    ".. • تابعی به نام StudentCourseDict بنویسید که اطلاعات فایل را دریافت کرده و یک دیکشنری از نام دانشجویان به عنوان key و دروس اخذ شده توسط آنها به عنوان value بسازد و در خروجی نمایش دهد. فرض کنید بین کاراکترهای اسم ها فاصله نیست.\n",
    "\n",
    "همچنین اطلاعات تکراری نمی بایست درج گردد.\n",
    "\n",
    "{ Ahmadi :[ Physics2,Mathematics2,AP],…}\n",
    "\n",
    "• تابعی به نام CalculateNumStudent بنویسید که دیکشنری قبلی را بگیرد و تعداد افرادی که یک درس خاص را ثبت نام کرده اند را در یک دیکشنری جدید درج کند.\n",
    "\n",
    "{ Physics2:2,…}\n",
    "\n",
    "• تابعی به نام SortNumStudent بنویسید که دیکشنری قبلی را بگیرد و یک لیست مرتب از دروس براساس تعداد دانشجویان ثبت نام شده (به صورت نزولی) برگرداند.\n",
    "\n",
    "Mathematics2 Physics2 AP\n",
    "</div>"
   ]
  },
  {
   "cell_type": "code",
   "execution_count": null,
   "metadata": {},
   "outputs": [],
   "source": []
  },
  {
   "cell_type": "markdown",
   "metadata": {},
   "source": [
    "<div dir=rtl>\n",
    "علی عادتهای مشخصی دارد. او صبحانه را ساعت 7:۰۰ صبح ، ناهار را ساعت ۱2:۰۰ بعد از ظهر و شام را ساعت 7:۰۰ بعدازظهر می خورد. تابعی ایجاد کنید که زمان جاری را به عنوان یک رشته دریافت کند و مدت زمان باقیمانده قبل از وعده غذایی بعدی علی را تعیین کند.\n",
    "\n",
    "نتیجه را به عنوان یک لیست با عناصر اول و دوم به ترتیب نشان دهنده ساعت و دقیقه نشان دهید.\n",
    "\n",
    "مثالها\n",
    "\n",
    "timeToEat(\"2:00 p.m.\") ➞ [5, 0]\n",
    "\n",
    "// 5 hours until the next meal, dinner\n",
    "\n",
    "timeToEat(\"5:50 a.m.\") ➞ [1, 10]\n",
    "\n",
    "// 1 hour and 10 minutes until the next meal, breakfast\n",
    "\n",
    "</div>"
   ]
  },
  {
   "cell_type": "code",
   "execution_count": null,
   "metadata": {},
   "outputs": [],
   "source": []
  }
 ],
 "metadata": {
  "kernelspec": {
   "display_name": "Python 3",
   "language": "python",
   "name": "python3"
  },
  "language_info": {
   "codemirror_mode": {
    "name": "ipython",
    "version": 3
   },
   "file_extension": ".py",
   "mimetype": "text/x-python",
   "name": "python",
   "nbconvert_exporter": "python",
   "pygments_lexer": "ipython3",
   "version": "3.12.3"
  }
 },
 "nbformat": 4,
 "nbformat_minor": 2
}
